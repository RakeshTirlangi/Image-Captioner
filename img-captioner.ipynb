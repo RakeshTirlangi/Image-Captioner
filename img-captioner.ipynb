{
 "cells": [
  {
   "cell_type": "markdown",
   "id": "638e5322-c387-4d7c-acb9-379a905b608e",
   "metadata": {},
   "source": [
    " Importing the necessary tools to understand images"
   ]
  },
  {
   "cell_type": "code",
   "execution_count": 1,
   "id": "4679ae1b-ac79-488c-aa4c-54b21bc485bc",
   "metadata": {},
   "outputs": [],
   "source": [
    "from transformers import pipeline"
   ]
  },
  {
   "cell_type": "markdown",
   "id": "81d58904-671a-431a-947e-3b82e6cff40d",
   "metadata": {},
   "source": [
    "Displaying images using a special tool"
   ]
  },
  {
   "cell_type": "code",
   "execution_count": 2,
   "id": "7db63fbc-3125-4f22-a333-702b59628ec1",
   "metadata": {},
   "outputs": [],
   "source": [
    "from IPython.display import Image, display"
   ]
  },
  {
   "cell_type": "markdown",
   "id": "49e9b0c4-07a4-48d4-abf3-fe01a70babab",
   "metadata": {},
   "source": [
    "Ignoring any annoying messages that might pop up"
   ]
  },
  {
   "cell_type": "code",
   "execution_count": 3,
   "id": "16e0a55c-77e5-4bd9-a5b1-49bc7fc8767d",
   "metadata": {},
   "outputs": [],
   "source": [
    "import warnings\n",
    "import logging\n",
    "warnings.simplefilter('ignore')\n",
    "logging.disable(logging.WARNING)"
   ]
  },
  {
   "cell_type": "markdown",
   "id": "b206d0af-bad7-4f45-af67-62b50ebb886e",
   "metadata": {},
   "source": [
    " Asking a smart computer program to describe what's in the picture"
   ]
  },
  {
   "cell_type": "code",
   "execution_count": 4,
   "id": "3ea59120-682a-4f08-b0c3-88fff372efa3",
   "metadata": {},
   "outputs": [],
   "source": [
    "img_captioner = pipeline(\"image-to-text\")"
   ]
  },
  {
   "cell_type": "markdown",
   "id": "1e7e516d-6b02-4dbf-8c28-dedea8d3f18d",
   "metadata": {},
   "source": [
    "Specifying the location of the picture on the computer"
   ]
  },
  {
   "cell_type": "code",
   "execution_count": 5,
   "id": "fb4a930b-8def-4c8b-824d-93a5f3e34251",
   "metadata": {},
   "outputs": [],
   "source": [
    "image_path = \"Images\\\\img1.jpg\" "
   ]
  },
  {
   "cell_type": "markdown",
   "id": "c64d4e02-6bd0-4b84-9200-252099e5793e",
   "metadata": {},
   "source": [
    "Showing the picture on the screen"
   ]
  },
  {
   "cell_type": "code",
   "execution_count": 6,
   "id": "dbcffd3c-6faa-4438-86e2-d063b0c3b8b2",
   "metadata": {},
   "outputs": [
    {
     "data": {
      "image/jpeg": "[encoded data removed]",
      "text/plain": [
       "<IPython.core.display.Image object>"
      ]
     },
     "metadata": {},
     "output_type": "display_data"
    }
   ],
   "source": [
    "display(Image(filename=image_path))"
   ]
  },
  {
   "cell_type": "markdown",
   "id": "242272a5-3900-457a-a810-ae0057409c3a",
   "metadata": {},
   "source": [
    "Getting the program to tell us what it sees in the picture"
   ]
  },
  {
   "cell_type": "code",
   "execution_count": 8,
   "id": "4bd2042b-3af8-465e-b368-cde850818c36",
   "metadata": {},
   "outputs": [
    {
     "data": {
      "text/plain": [
       "'a black and white panda bear sitting on a tree branch '"
      ]
     },
     "execution_count": 8,
     "metadata": {},
     "output_type": "execute_result"
    }
   ],
   "source": [
    "img_captioner(image_path)[0][\"generated_text\"]"
   ]
  },
  {
   "cell_type": "code",
   "execution_count": null,
   "id": "736c3443-8c28-4e52-8fb2-4120df800e1d",
   "metadata": {},
   "outputs": [],
   "source": []
  }
 ],
 "metadata": {
  "kernelspec": {
   "display_name": "Python 3 (ipykernel)",
   "language": "python",
   "name": "python3"
  },
  "language_info": {
   "codemirror_mode": {
    "name": "ipython",
    "version": 3
   },
   "file_extension": ".py",
   "mimetype": "text/x-python",
   "name": "python",
   "nbconvert_exporter": "python",
   "pygments_lexer": "ipython3",
   "version": "3.12.3"
  }
 },
 "nbformat": 4,
 "nbformat_minor": 5
}
